{
 "cells": [
  {
   "cell_type": "markdown",
   "metadata": {},
   "source": [
    "# <center>Đồ án 3: Linear Regression</center>"
   ]
  },
  {
   "cell_type": "markdown",
   "metadata": {},
   "source": [
    "# Thông tin sinh viên\n",
    "\n",
    "- Họ và tên: Võ Duy Nhân\n",
    "- MSSV: 20127056\n",
    "- Lớp: 20CLC11"
   ]
  },
  {
   "cell_type": "markdown",
   "metadata": {},
   "source": [
    "# Import"
   ]
  },
  {
   "cell_type": "code",
   "execution_count": 1,
   "metadata": {},
   "outputs": [],
   "source": [
    "import pandas as pd\n",
    "import numpy as np\n",
    "import math\n",
    "# Import thêm dữ thư viện nếu cần"
   ]
  },
  {
   "cell_type": "markdown",
   "metadata": {},
   "source": [
    "# Đọc dữ liệu"
   ]
  },
  {
   "cell_type": "code",
   "execution_count": 2,
   "metadata": {},
   "outputs": [],
   "source": [
    "# Đọc dữ liệu bằng pandas\n",
    "train = pd.read_csv('train.csv')\n",
    "test = pd.read_csv('test.csv')\n",
    "\n",
    "# Lấy các đặc trưng X và giá trị mục tiêu y cho các tập huấn luyện (train) và kiểm tra (test)\n",
    "X_train = train.iloc[:, :-1]    # Dataframe (chứa 10 đặc trưng huấn luyện)\n",
    "y_train = train.iloc[:, -1]     # Series    (chứa 1 giá trị mục tiêu kiểm tra)\n",
    "\n",
    "X_test = test.iloc[:, :-1]      # Dataframe (chứa 10 đặc trưng kiểm tra)\n",
    "y_test = test.iloc[:, -1]       # Series    (chứa 1 giá trị mục tiêu kiểm tra)\n",
    "\n",
    "# Sinh viên có thể sử dụng các khác nếu cần"
   ]
  },
  {
   "cell_type": "markdown",
   "metadata": {},
   "source": [
    "# Cài đặt hàm"
   ]
  },
  {
   "cell_type": "code",
   "execution_count": 3,
   "metadata": {},
   "outputs": [],
   "source": [
    "# Cài đặt các hàm cần thiết ở đây\n",
    "class OLSLinearRegression:\n",
    "    def fit(self, X, y):\n",
    "        X_pinv = np.linalg.inv(X.T @ X) @ X.T    # np.linalg.pinv(X)\n",
    "        self.w = X_pinv @ y\n",
    "\n",
    "        return self\n",
    "\n",
    "\n",
    "    def get_params(self):\n",
    "        return self.w\n",
    "\n",
    "\n",
    "    def predict(self, X):\n",
    "        return np.sum(self.w.ravel() * X, axis=1)   \n",
    "        \n",
    "def rmse(y, y_hat):\n",
    "    se = np.mean((y.ravel() - y_hat.ravel())**2)\n",
    "    return math.sqrt(np.mean(se))"
   ]
  },
  {
   "cell_type": "markdown",
   "metadata": {},
   "source": [
    "# Yêu cầu 1a: Sử dụng toàn bộ 10 đặc trưng đề bài cung cấp (2 điểm) "
   ]
  },
  {
   "cell_type": "code",
   "execution_count": 4,
   "metadata": {},
   "outputs": [
    {
     "name": "stdout",
     "output_type": "stream",
     "text": [
      "[[ 1.51013627e-02]\n",
      " [ 9.02199807e-02]\n",
      " [ 4.29218175e-02]\n",
      " [ 1.39289117e-01]\n",
      " [-5.67332827e-01]\n",
      " [-1.00765115e-04]\n",
      " [ 7.40713438e-01]\n",
      " [ 1.90935798e-01]\n",
      " [ 2.45059736e+01]\n",
      " [ 2.39351661e+00]]\n"
     ]
    }
   ],
   "source": [
    "# Phần code cho yêu cầu 1a\n",
    "(X, y) = (np.array(X_train), np.array(y_train).reshape(-1,1))\n",
    "\n",
    "lr = OLSLinearRegression().fit(X,y)\n",
    "\n",
    "y_test_predict = lr.predict(np.array(X_test))\n",
    "\n",
    "print(lr.get_params())"
   ]
  },
  {
   "cell_type": "code",
   "execution_count": 5,
   "metadata": {},
   "outputs": [
    {
     "data": {
      "text/plain": [
       "7.064046430584466"
      ]
     },
     "execution_count": 5,
     "metadata": {},
     "output_type": "execute_result"
    }
   ],
   "source": [
    "# Gọi hàm RMSE (tự cài đặt hoặc từ thư viện) trên tập kiểm tra\n",
    "rmse(y_test, y_test_predict)"
   ]
  },
  {
   "cell_type": "markdown",
   "metadata": {},
   "source": [
    "Công thức hồi quy\n",
    "\n",
    "$$\\text{Life expectancy} = 0.0151013627 *Adult Morality + 0.0902199807 * BMI + 0.0429218175 * Polio + 0.139289117 * Diphtheria  - 0.567332827 * HIV/AIDS  - 0.000100765115 *  GDP + 0.740713438 * Thinness age 10 - 19 + 0.190935798 * Thinness age 5 - 9 + 24.5059736 * Income composition of resources + 2.39351661 * Schooling$$"
   ]
  },
  {
   "cell_type": "markdown",
   "metadata": {},
   "source": [
    "# Yêu cầu 1b: Xây dựng mô hình sử dụng duy nhất 1 đặc trưng, tìm mô hình cho kết quả tốt nhất (2 điểm)"
   ]
  },
  {
   "cell_type": "markdown",
   "metadata": {},
   "source": [
    "Lưu ý: khi sử dụng cross-validation, sinh viên cần xáo trộn dữ liệu 1 lần duy nhất và thực hiện trên toàn bộ đặc trưng"
   ]
  },
  {
   "cell_type": "code",
   "execution_count": 6,
   "metadata": {},
   "outputs": [
    {
     "name": "stdout",
     "output_type": "stream",
     "text": [
      "[46.22512429 27.90470836 17.99305181 15.98564663 67.1001855  60.18481154\n",
      " 51.81247783 51.73478913 13.18601473 11.77609994]\n"
     ]
    }
   ],
   "source": [
    "# Phần code cho yêu cầu 1b\n",
    "# Tìm ra đặc trưng tốt nhất\n",
    "# In ra các kết quả cross-validation như yêu cầu\n",
    "\n",
    "data = np.hstack((np.array(X_train).copy(),np.array(y_train).copy().reshape(-1,1) ))\n",
    "np.random.shuffle(data)\n",
    "\n",
    "X_train_clone = data[:, : -1]\n",
    "y_train_clone = data[:, -1]\n",
    "\n",
    "    \n",
    "RMSE_list = np.ones(10)\n",
    "for i in range(10):\n",
    "    X_train_feature = X_train_clone[:,i]\n",
    "    y_train_feature = y_train_clone\n",
    "    \n",
    "    RMSE = 0\n",
    "    for j in range(5):\n",
    "        X_val = X_train_feature[j * 217 : (j+1) * 217]\n",
    "        y_val = y_train_feature[j * 217 : (j+1) * 217]\n",
    "        \n",
    "        Xtrain_kfold = np.concatenate ((X_train_feature[0 : j * 217],  X_train_feature[(j+1) * 217 : 217 * 5]))\n",
    "        ytrain_kfold = np.concatenate ((y_train_feature[0 : j * 217], y_train_feature[(j+1) * 217 : 217 * 5]))\n",
    "        \n",
    "\n",
    "        lr = OLSLinearRegression().fit(Xtrain_kfold.reshape(-1,1),ytrain_kfold.reshape(-1,1))\n",
    "        \n",
    "        y_val_predict = lr.predict(X_val.reshape(-1,1))\n",
    "        \n",
    "        RMSE += rmse (y_val, y_val_predict)\n",
    "    \n",
    "    RMSE_list[i] = RMSE / 5\n",
    "\n",
    "print (RMSE_list)\n"
   ]
  },
  {
   "cell_type": "markdown",
   "metadata": {},
   "source": [
    "| STT | Mô hình với 1 đặc trưng | RMSE |\n",
    "|:---:|:-----------------------:|:----:|\n",
    "|  1  | Adult Mortality         |  46.22512429    |\n",
    "|  2  | BMI                     |  27.90470836   |\n",
    "|  3  | Polio                   |  17.99305181    |\n",
    "|  4  | Diphtheria              |  15.98564663    |\n",
    "|  5  | HIV/AIDS                |  67.1001855    |\n",
    "|  6  | GDP                     |  60.18481154    |\n",
    "|  7  | Thinness age 10-19      |  51.81247783    |\n",
    "|  8  | Thinness age 5-9        |  51.73478913    |\n",
    "|  9  | Income composition of resources                     |  13.18601473    |\n",
    "|  10 | Schooling               |  11.77609994    |\n",
    "\n",
    "Schooling is the best feature"
   ]
  },
  {
   "cell_type": "code",
   "execution_count": 7,
   "metadata": {},
   "outputs": [
    {
     "name": "stdout",
     "output_type": "stream",
     "text": [
      "[[5.5573994]]\n"
     ]
    }
   ],
   "source": [
    "# Huấn luyện lại mô hình best_feature_model với đặc trưng tốt nhất trên toàn bộ tập huấn luyện\n",
    "X_train_schooling = np.array(X_train)[:, 9]\n",
    "y_train_schooling = np.array(y_train)\n",
    "\n",
    "X_test_schooling = np.array(X_test)[:, 9]\n",
    "y_test_schooling = np.array(y_test)\n",
    "\n",
    "lr = OLSLinearRegression().fit(X_train_schooling.reshape(-1,1),y_train_schooling.reshape(-1,1))\n",
    "\n",
    "y_test_schooling_predict = lr.predict(X_test_schooling.reshape(-1,1))\n",
    "\n",
    "print(lr.get_params())\n"
   ]
  },
  {
   "cell_type": "code",
   "execution_count": 8,
   "metadata": {},
   "outputs": [
    {
     "data": {
      "text/plain": [
       "10.260950391655376"
      ]
     },
     "execution_count": 8,
     "metadata": {},
     "output_type": "execute_result"
    }
   ],
   "source": [
    "# Gọi hàm RMSE (tự cài đặt hoặc từ thư viện) trên tập kiểm tra với mô hình best_feature_model\n",
    "rmse (y_test_schooling_predict, y_test_schooling)"
   ]
  },
  {
   "cell_type": "markdown",
   "metadata": {},
   "source": [
    "Công thức hồi quy\n",
    "\n",
    "$$\\text{Life expectancy} = 5.5573994 * Schooling$$"
   ]
  },
  {
   "cell_type": "markdown",
   "metadata": {},
   "source": [
    "# Yêu cầu 1c: Sinh viên tự xây dựng mô hình, tìm mô hình cho kết quả tốt nhất (3 điểm)"
   ]
  },
  {
   "cell_type": "markdown",
   "metadata": {},
   "source": [
    "Lưu ý: khi sử dụng cross-validation, sinh viên cần xáo trộn dữ liệu 1 lần duy nhất và thực hiện trên toàn bộ $m$ mô hình mà sinh viên thiết kế"
   ]
  },
  {
   "cell_type": "code",
   "execution_count": 9,
   "metadata": {},
   "outputs": [
    {
     "name": "stdout",
     "output_type": "stream",
     "text": [
      "[15.04847921 11.2842458  66.1290711 ]\n"
     ]
    }
   ],
   "source": [
    "# Phần code cho yêu cầu 1c\n",
    "# Tìm ra mô hình tốt nhất (tự thiết kế bởi sinh viên)\n",
    "# In ra các kết quả cross-validation như yêu cầu\n",
    "data = np.hstack((np.array(X_train).copy(),np.array(y_train).copy().reshape(-1,1) ))\n",
    "np.random.shuffle(data)\n",
    "\n",
    "X_train_clone = data[:, : -1]\n",
    "y_train_clone = data[:, -1]\n",
    "\n",
    "RMSE_list = np.ones(3)\n",
    "\n",
    "# Model 1: y =  w1 * Polio + w2 * Diptheria + w3 * HIV/AIDS\n",
    "X_train_model_1 = np.hstack ((X_train_clone[:,2].reshape(-1,1), X_train_clone[:,3].reshape(-1,1), X_train_clone[:,4].reshape(-1,1)))\n",
    "\n",
    "\n",
    "RMSE = 0\n",
    "for j in range(5):\n",
    "    X_val = X_train_model_1[j * 217 : (j+1) * 217, :]\n",
    "    y_val = y_train_clone[j * 217 : (j+1) * 217]\n",
    "    \n",
    "    Xtrain_kfold = np.concatenate ((X_train_model_1[0 : j * 217, :],  X_train_model_1[(j+1) * 217 : 217 * 5, :]))\n",
    "    ytrain_kfold = np.concatenate ((y_train_clone[0 : j * 217], y_train_clone[(j+1) * 217 : 217 * 5]))\n",
    "        \n",
    "\n",
    "    lr = OLSLinearRegression().fit(Xtrain_kfold,ytrain_kfold.reshape(-1,1))\n",
    "        \n",
    "    y_val_predict = lr.predict(X_val)\n",
    "        \n",
    "    RMSE += rmse (y_val, y_val_predict)\n",
    "    \n",
    "RMSE_list[0] = RMSE / 5\n",
    "\n",
    "# Model 2:  y = w1 * HIV/AIDS + w2 * Income composition of resources + w3 * Schooling\n",
    "X_train_model_2 = np.hstack ((X_train_clone[:, 4].reshape(-1,1), X_train_clone[:, 8].reshape(-1,1), X_train_clone[:, 9].reshape(-1,1)))\n",
    "\n",
    "RMSE = 0\n",
    "for j in range(5):\n",
    "    X_val = X_train_model_2[j * 217 : (j+1) * 217, :]\n",
    "    y_val = y_train_clone[j * 217 : (j+1) * 217]\n",
    "    \n",
    "    Xtrain_kfold = np.concatenate ((X_train_model_2[0 : j * 217, :],  X_train_model_2[(j+1) * 217 : 217 * 5, :]))\n",
    "    ytrain_kfold = np.concatenate ((y_train_clone[0 : j * 217], y_train_clone[(j+1) * 217 : 217 * 5]))\n",
    "        \n",
    "\n",
    "    lr = OLSLinearRegression().fit(Xtrain_kfold,ytrain_kfold.reshape(-1,1))\n",
    "        \n",
    "    y_val_predict = lr.predict(X_val)\n",
    "        \n",
    "    RMSE += rmse (y_val, y_val_predict)\n",
    "    \n",
    "RMSE_list[1] = RMSE / 5\n",
    "\n",
    "\n",
    "\n",
    "# Model 3: y =  w1 * GDP ^ 2\n",
    "X_train_model_3 = X_train_clone[:,5]**2\n",
    "\n",
    "RMSE = 0\n",
    "for j in range(5):\n",
    "    X_val = X_train_model_3[j * 217 : (j+1) * 217]\n",
    "    y_val = y_train_clone[j * 217 : (j+1) * 217]\n",
    "    \n",
    "    Xtrain_kfold = np.concatenate ((X_train_model_3[0 : j * 217],  X_train_model_3[(j+1) * 217 : 217 * 5]))\n",
    "    ytrain_kfold = np.concatenate ((y_train_clone[0 : j * 217], y_train_clone[(j+1) * 217 : 217 * 5]))\n",
    "        \n",
    "\n",
    "    lr = OLSLinearRegression().fit(Xtrain_kfold.reshape(-1,1),ytrain_kfold.reshape(-1,1))\n",
    "        \n",
    "    y_val_predict = lr.predict(X_val.reshape(-1,1))\n",
    "        \n",
    "    RMSE += rmse (y_val, y_val_predict)\n",
    "    \n",
    "RMSE_list[2] = RMSE / 5\n",
    "\n",
    "\n",
    "print(RMSE_list)"
   ]
  },
  {
   "cell_type": "markdown",
   "metadata": {},
   "source": [
    "| STT | Mô hình | RMSE |\n",
    "|:---:|:-----------------------:|:----:|\n",
    "|  1  |  y = w1 * Polio + w2 * Diphtheria + w3 * HIV/AIDS|  15.04847921    |\n",
    "|  2  | y = w1 * HIV/AIDS + w2 * Income composition of resources + w3 * Schooling                     |  11.2842458   |\n",
    "|  3  | y = w * $GDP ^ {2}$                   |  66.1290711    |"
   ]
  },
  {
   "cell_type": "code",
   "execution_count": 10,
   "metadata": {},
   "outputs": [
    {
     "name": "stdout",
     "output_type": "stream",
     "text": [
      "[[2.69354523e-02]\n",
      " [3.51354088e+01]\n",
      " [3.72006160e+00]]\n"
     ]
    }
   ],
   "source": [
    "# Huấn luyện lại mô hình my_best_model trên toàn bộ tập huấn luyện\n",
    "X_train_model_2 = np.hstack ((np.array(X_train)[:, 4].reshape(-1,1), \n",
    "                                 np.array(X_train)[:, 8].reshape(-1,1),\n",
    "                                 np.array(X_train)[:, 9].reshape(-1,1) ))\n",
    "\n",
    "y_train_model_2 = np.array(y_train)\n",
    "\n",
    "X_test_model_2 = np.hstack ((np.array(X_test)[:, 4].reshape(-1,1),\n",
    "                                  np.array(X_test)[:, 8].reshape(-1,1),\n",
    "                                  np.array(X_test)[:, 9].reshape(-1,1) ))\n",
    "y_test_model_2 = np.array(y_test)\n",
    "\n",
    "lr = OLSLinearRegression().fit(X_train_model_2,y_train_model_2.reshape(-1,1))\n",
    "\n",
    "y_test_model_2_predict = lr.predict(X_test_model_2)\n",
    "\n",
    "print(lr.get_params())\n",
    "\n",
    "\n"
   ]
  },
  {
   "cell_type": "code",
   "execution_count": 11,
   "metadata": {},
   "outputs": [
    {
     "data": {
      "text/plain": [
       "9.617618622409767"
      ]
     },
     "execution_count": 11,
     "metadata": {},
     "output_type": "execute_result"
    }
   ],
   "source": [
    "# Gọi hàm RMSE (tự cài đặt hoặc từ thư viện) trên tập kiểm tra với mô hình my_best_model\n",
    "rmse(y_test_model_2_predict, y_test_model_2)"
   ]
  },
  {
   "cell_type": "markdown",
   "metadata": {},
   "source": [
    "Công thức hồi quy\n",
    "\n",
    "$$\\text{Life expectancy} = 0.0269354523 * HIV/AIDS + 35.1354088 * Income composition of resources + 3.72006160 * Schooling$$"
   ]
  },
  {
   "cell_type": "code",
   "execution_count": null,
   "metadata": {},
   "outputs": [],
   "source": []
  }
 ],
 "metadata": {
  "kernelspec": {
   "display_name": "Python 3 (ipykernel)",
   "language": "python",
   "name": "python3"
  },
  "language_info": {
   "codemirror_mode": {
    "name": "ipython",
    "version": 3
   },
   "file_extension": ".py",
   "mimetype": "text/x-python",
   "name": "python",
   "nbconvert_exporter": "python",
   "pygments_lexer": "ipython3",
   "version": "3.9.12"
  },
  "vscode": {
   "interpreter": {
    "hash": "15af99fd1a1a3f0a3416ea421564e792a8676a13670c2eed127d89ab0518a27b"
   }
  }
 },
 "nbformat": 4,
 "nbformat_minor": 2
}
